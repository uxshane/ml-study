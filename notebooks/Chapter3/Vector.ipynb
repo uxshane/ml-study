{
 "cells": [
  {
   "cell_type": "code",
   "execution_count": 26,
   "id": "926e7342-662d-4e78-9068-083e2baf2fa7",
   "metadata": {},
   "outputs": [],
   "source": [
    "import sys\n",
    "sys.path.append(\"C:/Users/uxcha/source_code/library\")"
   ]
  },
  {
   "cell_type": "code",
   "execution_count": 31,
   "id": "76c37e60-e406-45dc-b3c7-94222b9cec5f",
   "metadata": {},
   "outputs": [
    {
     "data": {
      "text/plain": [
       "<module 'my_linear_algebra' from 'C:\\\\Users/uxcha/source_code/library\\\\my_linear_algebra.py'>"
      ]
     },
     "execution_count": 31,
     "metadata": {},
     "output_type": "execute_result"
    }
   ],
   "source": [
    "import importlib\n",
    "import my_linear_algebra as mla\n",
    "importlib.reload(mla)"
   ]
  },
  {
   "cell_type": "code",
   "execution_count": 28,
   "id": "29dfa365-1315-41bb-80c5-090990b723f1",
   "metadata": {},
   "outputs": [
    {
     "name": "stdout",
     "output_type": "stream",
     "text": [
      "[5, 7, 9]\n"
     ]
    }
   ],
   "source": [
    "u = [1,2,3]\n",
    "v = [4,5,6]\n",
    "\n",
    "n = len(u)\n",
    "w = []\n",
    "\n",
    "for i in range(0, n):\n",
    "    val = u[i] + v[i]\n",
    "    w.append(val)\n",
    "\n",
    "print(w)"
   ]
  },
  {
   "cell_type": "code",
   "execution_count": 29,
   "id": "d5651172-c872-4075-ba89-4574ce5fa3aa",
   "metadata": {},
   "outputs": [
    {
     "name": "stdout",
     "output_type": "stream",
     "text": [
      "[5, 7, 9]\n"
     ]
    }
   ],
   "source": [
    "print(mla.v_add(u, v))"
   ]
  },
  {
   "cell_type": "code",
   "execution_count": 32,
   "id": "538e0365-9058-41c9-aa39-59feca2ecf72",
   "metadata": {},
   "outputs": [
    {
     "name": "stdout",
     "output_type": "stream",
     "text": [
      "[5, 7, 9]\n"
     ]
    }
   ],
   "source": [
    "print(mla.v_subtract(u,v))"
   ]
  },
  {
   "cell_type": "code",
   "execution_count": 33,
   "id": "e55c1759-e8bb-49e2-a558-64c16a119b14",
   "metadata": {},
   "outputs": [],
   "source": [
    "import numpy as np"
   ]
  },
  {
   "cell_type": "code",
   "execution_count": 34,
   "id": "63ec4708-4d6a-48d0-b0ca-7715ccb883ed",
   "metadata": {},
   "outputs": [
    {
     "name": "stdout",
     "output_type": "stream",
     "text": [
      "[ 6  9 12]\n"
     ]
    }
   ],
   "source": [
    "u = np.array([5,7,9])\n",
    "v = np.array([1,2,3])\n",
    "print(u+v)"
   ]
  }
 ],
 "metadata": {
  "kernelspec": {
   "display_name": "Python (py39env)",
   "language": "python",
   "name": "py39env"
  },
  "language_info": {
   "codemirror_mode": {
    "name": "ipython",
    "version": 3
   },
   "file_extension": ".py",
   "mimetype": "text/x-python",
   "name": "python",
   "nbconvert_exporter": "python",
   "pygments_lexer": "ipython3",
   "version": "3.9.21"
  }
 },
 "nbformat": 4,
 "nbformat_minor": 5
}
