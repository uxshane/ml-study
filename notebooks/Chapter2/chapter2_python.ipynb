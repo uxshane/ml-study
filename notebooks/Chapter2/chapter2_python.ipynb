{
 "cells": [
  {
   "cell_type": "code",
   "execution_count": 5,
   "id": "3b29b899-3fa3-4cf7-ada2-a6be8b7b41ad",
   "metadata": {},
   "outputs": [],
   "source": [
    "import my_linear_algebra as mla"
   ]
  },
  {
   "cell_type": "code",
   "execution_count": 4,
   "id": "4136b54c-c788-48d4-89dd-d59ee758d715",
   "metadata": {},
   "outputs": [
    {
     "name": "stdout",
     "output_type": "stream",
     "text": [
      "[[1, 2], [3, 4]]\n"
     ]
    }
   ],
   "source": [
    "A = [[1, 2],[3, 4]]\n",
    "B = mla.deepcopy(A)\n",
    "print(B)"
   ]
  }
 ],
 "metadata": {
  "kernelspec": {
   "display_name": "Python (py39env)",
   "language": "python",
   "name": "py39env"
  },
  "language_info": {
   "codemirror_mode": {
    "name": "ipython",
    "version": 3
   },
   "file_extension": ".py",
   "mimetype": "text/x-python",
   "name": "python",
   "nbconvert_exporter": "python",
   "pygments_lexer": "ipython3",
   "version": "3.9.21"
  }
 },
 "nbformat": 4,
 "nbformat_minor": 5
}
